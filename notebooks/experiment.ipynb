{
 "cells": [
  {
   "cell_type": "code",
   "execution_count": 1,
   "metadata": {},
   "outputs": [
    {
     "name": "stderr",
     "output_type": "stream",
     "text": [
      "c:\\Users\\shchitt\\AppData\\Local\\anaconda3\\envs\\langgraph\\Lib\\site-packages\\tqdm\\auto.py:21: TqdmWarning: IProgress not found. Please update jupyter and ipywidgets. See https://ipywidgets.readthedocs.io/en/stable/user_install.html\n",
      "  from .autonotebook import tqdm as notebook_tqdm\n"
     ]
    }
   ],
   "source": [
    "import os\n",
    "from langchain import hub\n",
    "from langchain.agents import create_openai_functions_agent\n",
    "from langchain_openai.chat_models import AzureChatOpenAI\n",
    "from langchain_community.utilities.polygon import PolygonAPIWrapper\n",
    "from langchain_community.tools import PolygonLastQuote, PolygonTickerNews, PolygonFinancials, PolygonAggregates\n",
    "import gradio as gr\n",
    "\n",
    "import os, openai\n",
    "\n",
    "from dotenv import load_dotenv, find_dotenv\n",
    "_ = load_dotenv(find_dotenv()) # read local .env file\n",
    "\n",
    "os.environ[\"LANGCHAIN_PROJECT\"] = \"langgraph-financial-agent\"\n",
    "\n",
    "\n",
    "llm  = AzureChatOpenAI(\n",
    "    api_key=os.environ[\"AZURE_OPENAI_API_KEY\"],\n",
    "    azure_endpoint=os.environ[\"AZURE_OPENAI_ENDPOINT\"],\n",
    "    api_version=os.environ[\"AZURE_OPENAI_API_VERSION\"],\n",
    "    azure_deployment=\"gpt-4-32k\",\n",
    "    model=\"gpt-4-32k\",\n",
    "    streaming=True,\n",
    "    temperature=0\n",
    ")"
   ]
  },
  {
   "cell_type": "code",
   "execution_count": 2,
   "metadata": {},
   "outputs": [
    {
     "name": "stdout",
     "output_type": "stream",
     "text": [
      "================================\u001b[1m System Message \u001b[0m================================\n",
      "\n",
      "You are a helpful assistant\n",
      "\n",
      "=============================\u001b[1m Messages Placeholder \u001b[0m=============================\n",
      "\n",
      "\u001b[33;1m\u001b[1;3m{chat_history}\u001b[0m\n",
      "\n",
      "================================\u001b[1m Human Message \u001b[0m=================================\n",
      "\n",
      "\u001b[33;1m\u001b[1;3m{input}\u001b[0m\n",
      "\n",
      "=============================\u001b[1m Messages Placeholder \u001b[0m=============================\n",
      "\n",
      "\u001b[33;1m\u001b[1;3m{agent_scratchpad}\u001b[0m\n"
     ]
    }
   ],
   "source": [
    "prompt = hub.pull(\"hwchase17/openai-functions-agent\")\n",
    "prompt.pretty_print()"
   ]
  },
  {
   "cell_type": "markdown",
   "metadata": {},
   "source": [
    "## Tools and Agent"
   ]
  },
  {
   "cell_type": "code",
   "execution_count": 3,
   "metadata": {},
   "outputs": [],
   "source": [
    "polygon = PolygonAPIWrapper()\n",
    "tools = [\n",
    "    PolygonLastQuote(api_wrapper=polygon),\n",
    "    PolygonTickerNews(api_wrapper=polygon),\n",
    "    PolygonFinancials(api_wrapper=polygon),\n",
    "    PolygonAggregates(api_wrapper=polygon)\n",
    "]"
   ]
  },
  {
   "cell_type": "code",
   "execution_count": 4,
   "metadata": {},
   "outputs": [],
   "source": [
    "from langchain_core.runnables import RunnablePassthrough\n",
    "from langchain_core.agents import AgentFinish\n",
    "\n",
    "# Define the agent\n",
    "agent_runnable = create_openai_functions_agent(llm, tools, prompt)\n",
    "agent = RunnablePassthrough.assign(\n",
    "    agent_outcome = agent_runnable\n",
    ")"
   ]
  },
  {
   "cell_type": "markdown",
   "metadata": {},
   "source": [
    "## Graph"
   ]
  },
  {
   "cell_type": "code",
   "execution_count": 5,
   "metadata": {},
   "outputs": [],
   "source": [
    "# Define the function to execute tools\n",
    "def execute_tools(data):\n",
    "    agent_action = data.pop('agent_outcome')\n",
    "    tool_to_use = {t.name: t for t in tools}[agent_action.tool]\n",
    "    observation = tool_to_use.invoke(agent_action.tool_input)\n",
    "    data['intermediate_steps'].append((agent_action, observation))\n",
    "    return data\n",
    "\n",
    "# Define logic that will be used to determine which conditional edge to go down\n",
    "def should_continue(data):\n",
    "    if isinstance(data['agent_outcome'], AgentFinish):\n",
    "        return \"exit\"\n",
    "    else:\n",
    "        return \"continue\""
   ]
  },
  {
   "cell_type": "code",
   "execution_count": 6,
   "metadata": {},
   "outputs": [],
   "source": [
    "from langgraph.graph import END, Graph\n",
    "\n",
    "workflow = Graph()\n",
    "workflow.add_node(\"agent\", agent)\n",
    "workflow.add_node(\"tools\", execute_tools)\n",
    "workflow.set_entry_point(\"agent\")\n",
    "workflow.add_conditional_edges(\n",
    "    \"agent\",\n",
    "    should_continue,\n",
    "    {\n",
    "        \"continue\": \"tools\",\n",
    "        \"exit\": END\n",
    "    }\n",
    ")\n",
    "workflow.add_edge('tools', 'agent')\n",
    "app = workflow.compile()"
   ]
  },
  {
   "cell_type": "code",
   "execution_count": 8,
   "metadata": {},
   "outputs": [
    {
     "data": {
      "image/jpeg": "[encoded data removed]",
      "text/plain": [
       "<IPython.core.display.Image object>"
      ]
     },
     "metadata": {},
     "output_type": "display_data"
    }
   ],
   "source": [
    "from IPython.display import Image, display\n",
    "\n",
    "try:\n",
    "    display(Image(app.get_graph().draw_mermaid_png()))\n",
    "except:\n",
    "    # This requires some extra dependencies and is optional\n",
    "    pass"
   ]
  },
  {
   "cell_type": "code",
   "execution_count": 9,
   "metadata": {},
   "outputs": [
    {
     "name": "stdout",
     "output_type": "stream",
     "text": [
      "{'input': 'Give me the top news about SBUX stock?', 'intermediate_steps': [(AgentActionMessageLog(tool='polygon_ticker_news', tool_input={'query': 'SBUX'}, log=\"\\nInvoking: `polygon_ticker_news` with `{'query': 'SBUX'}`\\n\\n\\n\", message_log=[AIMessage(content='', additional_kwargs={'function_call': {'arguments': '{\\n  \"query\": \"SBUX\"\\n}', 'name': 'polygon_ticker_news'}}, response_metadata={'finish_reason': 'function_call'}, id='run-f7129629-921a-40cd-9b0d-2cfbb5ec1464-0')]), '[{\"id\": \"jZVPfW2a9xKl_2V4fT38AGTlNE53WR7EKg_PS7O8J-8\", \"publisher\": {\"name\": \"The Motley Fool\", \"homepage_url\": \"https://www.fool.com/\", \"logo_url\": \"https://s3.polygon.io/public/assets/news/logos/themotleyfool.svg\", \"favicon_url\": \"https://s3.polygon.io/public/assets/news/favicons/themotleyfool.ico\"}, \"title\": \"Is It Time to Sell Starbucks Stock?\", \"author\": \"newsfeedback@fool.com (Johnny Rice)\", \"published_utc\": \"2024-06-02T13:57:00Z\", \"article_url\": \"https://www.fool.com/investing/2024/06/02/is-it-time-to-sell-starbucks-stock/\", \"tickers\": [\"SBUX\"], \"image_url\": \"https://g.foolcdn.com/editorial/images/778871/getting-coffee-drive-thru-starbucks.jpg\", \"description\": \"Starbucks\\'s latest earnings release wasn\\'t good. What gives?\", \"keywords\": [\"investing\"]}, {\"id\": \"38Kkik7SYdnvwCcEsNgkI0NG3gk648wcfKdzXCbIuTs\", \"publisher\": {\"name\": \"The Motley Fool\", \"homepage_url\": \"https://www.fool.com/\", \"logo_url\": \"https://s3.polygon.io/public/assets/news/logos/themotleyfool.svg\", \"favicon_url\": \"https://s3.polygon.io/public/assets/news/favicons/themotleyfool.ico\"}, \"title\": \"1 No-Brainer Stock to Buy With $100 Right Now\", \"author\": \"newsfeedback@fool.com (Neil Patel)\", \"published_utc\": \"2024-06-01T15:43:00Z\", \"article_url\": \"https://www.fool.com/investing/2024/06/01/1-no-brainer-stock-to-buy-with-100-right-now/\", \"tickers\": [\"SBUX\"], \"image_url\": \"https://g.foolcdn.com/editorial/images/778588/starbucks-online-order-mobile-coffee-drive-thru.jpg\", \"description\": \"This business is struggling now but it should do well over the long term.\", \"keywords\": [\"investing\"]}, {\"id\": \"ghLm7fXME9PwdCbkn0DlJtRD3B53Rv-Z47oV7NvsAd4\", \"publisher\": {\"name\": \"The Motley Fool\", \"homepage_url\": \"https://www.fool.com/\", \"logo_url\": \"https://s3.polygon.io/public/assets/news/logos/themotleyfool.svg\", \"favicon_url\": \"https://s3.polygon.io/public/assets/news/favicons/themotleyfool.ico\"}, \"title\": \"4 Unforgettable Growth Stocks You\\'ll Regret Not Buying in the New Nasdaq Bull Market\", \"author\": \"newsfeedback@fool.com (Sean Williams)\", \"published_utc\": \"2024-06-01T09:06:00Z\", \"article_url\": \"https://www.fool.com/investing/2024/06/01/nasdaq-bull-market-4-growth-stocks-regret-not-buy/\", \"tickers\": [\"SQ\", \"META\", \"SBUX\", \"OKTA\"], \"image_url\": \"https://g.foolcdn.com/editorial/images/779181/bull-market-rising-stock-charts-financial-newspaper-quotes-invest-getty.jpg\", \"description\": \"Growth stock deals abound, even with the Nasdaq Composite pushing to a fresh all-time high in 2024.\", \"keywords\": [\"investing\"]}, {\"id\": \"BCNQTt8ejSyyr6L4O6G799cUQQk0lXzS_D83mDyxDNE\", \"publisher\": {\"name\": \"The Motley Fool\", \"homepage_url\": \"https://www.fool.com/\", \"logo_url\": \"https://s3.polygon.io/public/assets/news/logos/themotleyfool.svg\", \"favicon_url\": \"https://s3.polygon.io/public/assets/news/favicons/themotleyfool.ico\"}, \"title\": \"Best Dividend Stocks: Starbucks vs. McDonald\\'s\", \"author\": \"newsfeedback@fool.com (Parkev Tatevosian, CFA)\", \"published_utc\": \"2024-06-01T07:23:00Z\", \"article_url\": \"https://www.fool.com/investing/2024/06/01/best-dividend-stocks-starbucks-vs-mcdonalds/\", \"tickers\": [\"SBUX\", \"MCD\"], \"image_url\": \"https://g.foolcdn.com/editorial/images/779252/dividend-stocks-growing-money-income-cash.jpg\", \"description\": \"Passive income investors can generate steady dividend income with Starbucks and McDonald\\'s stocks.\", \"keywords\": [\"investing\"]}, {\"id\": \"K-D0hw1FWl5rKpKAqXmW_w3CD_oEOpgcaLrbeMbkYfc\", \"publisher\": {\"name\": \"Seeking Alpha\", \"homepage_url\": \"https://seekingalpha.com/\", \"logo_url\": \"https://s3.polygon.io/public/assets/news/logos/seekingalpha.svg\", \"favicon_url\": \"https://s3.polygon.io/public/assets/news/favicons/seekingalpha.ico\"}, \"title\": \"My Dividend Growth Portfolio\", \"author\": \"The Dividend Guy\", \"published_utc\": \"2024-06-01T05:00:00Z\", \"article_url\": \"https://seekingalpha.com/article/4696873-my-dividend-growth-portfolio\", \"tickers\": [\"ANCTF\", \"BEPC\", \"CCDBF\", \"FTS\", \"MGA\", \"NTIOF\", \"RY\", \"STLJF\", \"AAPL\", \"ADP\", \"BLK\", \"BN\", \"HD\", \"LMAT\", \"MSFT\", \"SBUX\", \"TXN\", \"V\", \"QCOM\", \"AVGO\", \"SHOP\"], \"image_url\": \"https://static.seekingalpha.com/cdn/s3/uploads/getty_images/1072593728/image_1072593728.jpg?io=getty-c-w1536\", \"description\": \"I split my holdings into two categories: a core portfolio generating dividend payments and a growth portfolio generating both\\\\u00a0dividend and stock value growth.\"}, {\"id\": \"BE6m7-awhERQ0dOFMt4dPs1w7_iF8JJNbnmwCsvpdrc\", \"publisher\": {\"name\": \"Zacks Investment Research\", \"homepage_url\": \"https://www.zacks.com/\", \"logo_url\": \"https://s3.polygon.io/public/assets/news/logos/zacks.png\", \"favicon_url\": \"https://s3.polygon.io/public/assets/news/favicons/zacks.ico\"}, \"title\": \"Are These Beaten-Down Stocks Worth a Look? Tesla, Intel and Starbucks\", \"author\": \"Derek Lewis\", \"published_utc\": \"2024-05-31T19:16:00Z\", \"article_url\": \"https://www.zacks.com/commentary/2282329/are-these-beaten-down-stocks-worth-a-look-tesla-intel-and-starbucks\", \"tickers\": [\"INTC\", \"SBUX\", \"TSLA\"], \"amp_url\": \"https://www.zacks.com/amp/commentary/2282329/are-these-beaten-down-stocks-worth-a-look-tesla-intel-and-starbucks\", \"image_url\": \"https://staticx-tuner.zacks.com/images/articles/main/f8/14626.jpg\", \"description\": \"This year hasn\\'t been a positive year for all companies, with the shares of Tesla, Intel and Starbucks facing considerable pressure. Is the selling overdone?\"}, {\"id\": \"pqFBH1s0xOdYQ8hsYMEZIOZXmrOozHBSsp5BGE8nCAM\", \"publisher\": {\"name\": \"The Motley Fool\", \"homepage_url\": \"https://www.fool.com/\", \"logo_url\": \"https://s3.polygon.io/public/assets/news/logos/themotleyfool.svg\", \"favicon_url\": \"https://s3.polygon.io/public/assets/news/favicons/themotleyfool.ico\"}, \"title\": \"The S&P 500 Is at Record Levels but These 3 Stocks Are Still Near Their 52-Week Lows\", \"author\": \"newsfeedback@fool.com (David Jagielski)\", \"published_utc\": \"2024-05-31T14:15:00Z\", \"article_url\": \"https://www.fool.com/investing/2024/05/31/the-sp-500-is-at-record-levels-but-these-3-stocks/\", \"tickers\": [\"SBUX\", \"CVS\", \"NKE\"], \"image_url\": \"https://g.foolcdn.com/editorial/images/778642/an-excited-investor-looking-at-a-chart.jpg\", \"description\": \"These stocks are all down more than 15% this year.\", \"keywords\": [\"investing\"]}, {\"id\": \"-ourpXDo78mT00HCsByC1I2kocymJy6daYyFns5vsoc\", \"publisher\": {\"name\": \"Zacks Investment Research\", \"homepage_url\": \"https://www.zacks.com/\", \"logo_url\": \"https://s3.polygon.io/public/assets/news/logos/zacks.png\", \"favicon_url\": \"https://s3.polygon.io/public/assets/news/favicons/zacks.ico\"}, \"title\": \"Starbucks Corporation (SBUX) is Attracting Investor Attention: Here is What You Should Know\", \"author\": \"Zacks Equity Research\", \"published_utc\": \"2024-05-31T13:00:14Z\", \"article_url\": \"https://www.zacks.com/stock/news/2281870/starbucks-corporation-sbux-is-attracting-investor-attention-here-is-what-you-should-know\", \"tickers\": [\"SBUX\"], \"amp_url\": \"https://www.zacks.com/amp/stock/news/2281870/starbucks-corporation-sbux-is-attracting-investor-attention-here-is-what-you-should-know\", \"image_url\": \"https://staticx-tuner.zacks.com/images/default_article_images/default40.jpg\", \"description\": \"Zacks.com users have recently been watching Starbucks (SBUX) quite a bit. Thus, it is worth knowing the facts that could determine the stock\\'s prospects.\"}, {\"id\": \"VfuX05N3-2wGcA4dsQgYR9HyYGgWBDTgxmsw42D89Z4\", \"publisher\": {\"name\": \"The Motley Fool\", \"homepage_url\": \"https://www.fool.com/\", \"logo_url\": \"https://s3.polygon.io/public/assets/news/logos/themotleyfool.svg\", \"favicon_url\": \"https://s3.polygon.io/public/assets/news/favicons/themotleyfool.ico\"}, \"title\": \"Is It Time to Buy 3 of the S&P 500\\'s Worst-Performing Stocks of 2024?\", \"author\": \"newsfeedback@fool.com (John Ballard)\", \"published_utc\": \"2024-05-31T07:44:00Z\", \"article_url\": \"https://www.fool.com/investing/2024/05/31/time-buy-sp-500s-worst-performing-stocks-2024/\", \"tickers\": [\"INTC\", \"TSLA\", \"SBUX\"], \"image_url\": \"https://g.foolcdn.com/editorial/images/778949/stock-investor.jpg\", \"description\": \"Two of these stocks are worth buying on the dip.\", \"keywords\": [\"investing\"]}, {\"id\": \"6KusCgo-Mttk6eLSgvZjJFu6kbNHSmLDEJHAWOeLM80\", \"publisher\": {\"name\": \"Zacks Investment Research\", \"homepage_url\": \"https://www.zacks.com/\", \"logo_url\": \"https://s3.polygon.io/public/assets/news/logos/zacks.png\", \"favicon_url\": \"https://s3.polygon.io/public/assets/news/favicons/zacks.ico\"}, \"title\": \"Why Is Starbucks (SBUX) Up 3.3% Since Last Earnings Report?\", \"author\": \"Zacks Equity Research\", \"published_utc\": \"2024-05-30T15:31:14Z\", \"article_url\": \"https://www.zacks.com/stock/news/2281481/why-is-starbucks-sbux-up-33-since-last-earnings-report\", \"tickers\": [\"SBUX\"], \"amp_url\": \"https://www.zacks.com/amp/stock/news/2281481/why-is-starbucks-sbux-up-33-since-last-earnings-report\", \"image_url\": \"https://staticx-tuner.zacks.com/images/default_article_images/default19.jpg\", \"description\": \"Starbucks (SBUX) reported earnings 30 days ago. What\\'s next for the stock? We take a look at earnings estimates for some clues.\"}]')], 'agent_outcome': AgentFinish(return_values={'output': \"Here are the top news about Starbucks (SBUX) stock:\\n\\n1. [Is It Time to Sell Starbucks Stock?](https://www.fool.com/investing/2024/06/02/is-it-time-to-sell-starbucks-stock/) - Published by The Motley Fool, this article discusses the latest earnings release of Starbucks which wasn't good.\\n\\n2. [1 No-Brainer Stock to Buy With $100 Right Now](https://www.fool.com/investing/2024/06/01/1-no-brainer-stock-to-buy-with-100-right-now/) - Another article from The Motley Fool suggests that despite current struggles, Starbucks should do well over the long term.\\n\\n3. [4 Unforgettable Growth Stocks You'll Regret Not Buying in the New Nasdaq Bull Market](https://www.fool.com/investing/2024/06/01/nasdaq-bull-market-4-growth-stocks-regret-not-buy/) - This article lists Starbucks as one of the growth stocks to consider buying in the new Nasdaq bull market.\\n\\n4. [Best Dividend Stocks: Starbucks vs. McDonald's](https://www.fool.com/investing/2024/06/01/best-dividend-stocks-starbucks-vs-mcdonalds/) - The Motley Fool compares Starbucks and McDonald's as the best dividend stocks for passive income investors.\\n\\n5. [Are These Beaten-Down Stocks Worth a Look? Tesla, Intel and Starbucks](https://www.zacks.com/commentary/2282329/are-these-beaten-down-stocks-worth-a-look-tesla-intel-and-starbucks) - Zacks Investment Research discusses whether the shares of Tesla, Intel, and Starbucks are worth considering after facing considerable pressure.\\n\\nPlease note that these articles are for informational purposes only and do not constitute financial advice.\"}, log=\"Here are the top news about Starbucks (SBUX) stock:\\n\\n1. [Is It Time to Sell Starbucks Stock?](https://www.fool.com/investing/2024/06/02/is-it-time-to-sell-starbucks-stock/) - Published by The Motley Fool, this article discusses the latest earnings release of Starbucks which wasn't good.\\n\\n2. [1 No-Brainer Stock to Buy With $100 Right Now](https://www.fool.com/investing/2024/06/01/1-no-brainer-stock-to-buy-with-100-right-now/) - Another article from The Motley Fool suggests that despite current struggles, Starbucks should do well over the long term.\\n\\n3. [4 Unforgettable Growth Stocks You'll Regret Not Buying in the New Nasdaq Bull Market](https://www.fool.com/investing/2024/06/01/nasdaq-bull-market-4-growth-stocks-regret-not-buy/) - This article lists Starbucks as one of the growth stocks to consider buying in the new Nasdaq bull market.\\n\\n4. [Best Dividend Stocks: Starbucks vs. McDonald's](https://www.fool.com/investing/2024/06/01/best-dividend-stocks-starbucks-vs-mcdonalds/) - The Motley Fool compares Starbucks and McDonald's as the best dividend stocks for passive income investors.\\n\\n5. [Are These Beaten-Down Stocks Worth a Look? Tesla, Intel and Starbucks](https://www.zacks.com/commentary/2282329/are-these-beaten-down-stocks-worth-a-look-tesla-intel-and-starbucks) - Zacks Investment Research discusses whether the shares of Tesla, Intel, and Starbucks are worth considering after facing considerable pressure.\\n\\nPlease note that these articles are for informational purposes only and do not constitute financial advice.\")}\n"
     ]
    }
   ],
   "source": [
    "result = app.invoke({\"input\": \"Give me the top news about SBUX stock?\", \"intermediate_steps\": []})\n",
    "print(result)"
   ]
  },
  {
   "cell_type": "code",
   "execution_count": 17,
   "metadata": {},
   "outputs": [
    {
     "name": "stdout",
     "output_type": "stream",
     "text": [
      "Here are the top news about Starbucks (SBUX) stock:\n",
      "\n",
      "1. [Is It Time to Sell Starbucks Stock?](https://www.fool.com/investing/2024/06/02/is-it-time-to-sell-starbucks-stock/) - Published by The Motley Fool, this article discusses the latest earnings release of Starbucks which wasn't good.\n",
      "\n",
      "2. [1 No-Brainer Stock to Buy With $100 Right Now](https://www.fool.com/investing/2024/06/01/1-no-brainer-stock-to-buy-with-100-right-now/) - Another article from The Motley Fool suggests that despite current struggles, Starbucks should do well over the long term.\n",
      "\n",
      "3. [4 Unforgettable Growth Stocks You'll Regret Not Buying in the New Nasdaq Bull Market](https://www.fool.com/investing/2024/06/01/nasdaq-bull-market-4-growth-stocks-regret-not-buy/) - This article lists Starbucks as one of the growth stocks to consider buying in the new Nasdaq bull market.\n",
      "\n",
      "4. [Best Dividend Stocks: Starbucks vs. McDonald's](https://www.fool.com/investing/2024/06/01/best-dividend-stocks-starbucks-vs-mcdonalds/) - The Motley Fool compares Starbucks and McDonald's as the best dividend stocks for passive income investors.\n",
      "\n",
      "5. [Are These Beaten-Down Stocks Worth a Look? Tesla, Intel and Starbucks](https://www.zacks.com/commentary/2282329/are-these-beaten-down-stocks-worth-a-look-tesla-intel-and-starbucks) - Zacks Investment Research discusses whether the shares of Tesla, Intel, and Starbucks are worth considering after facing considerable pressure.\n",
      "\n",
      "Please note that these articles are for informational purposes only and do not constitute financial advice.\n"
     ]
    }
   ],
   "source": [
    "output = result['agent_outcome'].return_values[\"output\"]\n",
    "print(output)"
   ]
  },
  {
   "cell_type": "code",
   "execution_count": null,
   "metadata": {},
   "outputs": [],
   "source": [
    "def financial_agent(input_text):\n",
    "    result = app.invoke({\"input\": input_text, \"intermediate_steps\": []})\n",
    "    output = result['agent_outcome'].return_values[\"output\"]\n",
    "    return output"
   ]
  },
  {
   "cell_type": "code",
   "execution_count": 19,
   "metadata": {},
   "outputs": [
    {
     "name": "stdout",
     "output_type": "stream",
     "text": [
      "The financials of Snowflake Inc. (SNOW) can be summarized as follows:\n",
      "\n",
      "- The company's total assets amount to $7,722,322,000.\n",
      "- The total liabilities are $2,253,707,000.\n",
      "- The company's equity is $5,463,615,000.\n",
      "- The company's net income/loss is -$797,526,000.\n",
      "- The company's revenues are $2,065,659,000.\n",
      "- The company's operating expenses are $2,190,386,000.\n",
      "- The company's operating income/loss is -$842,267,000.\n",
      "- The company's net cash flow from operating activities is $545,639,000.\n",
      "- The company's net cash flow from investing activities is -$597,885,000.\n",
      "- The company's net cash flow from financing activities is -$92,624,000.\n",
      "\n",
      "In summary, Snowflake Inc. has a significant amount of assets and equity, but it is currently operating at a loss and has a negative net income. The company is spending more than it is earning, which is not uncommon for growth-oriented tech companies. However, this could be a concern if the trend continues over the long term.\n"
     ]
    }
   ],
   "source": [
    "output = financial_agent(\"How are the financials of SNOW stock? Good or bad?\")\n",
    "print(output)"
   ]
  },
  {
   "cell_type": "markdown",
   "metadata": {},
   "source": [
    "## Gradio Interface"
   ]
  },
  {
   "cell_type": "code",
   "execution_count": 18,
   "metadata": {},
   "outputs": [
    {
     "name": "stdout",
     "output_type": "stream",
     "text": [
      "Running on local URL:  http://127.0.0.1:7860\n",
      "\n",
      "To create a public link, set `share=True` in `launch()`.\n"
     ]
    },
    {
     "data": {
      "text/html": [
       "<div><iframe src=\"http://127.0.0.1:7860/\" width=\"100%\" height=\"500\" allow=\"autoplay; camera; microphone; clipboard-read; clipboard-write;\" frameborder=\"0\" allowfullscreen></iframe></div>"
      ],
      "text/plain": [
       "<IPython.core.display.HTML object>"
      ]
     },
     "metadata": {},
     "output_type": "display_data"
    },
    {
     "data": {
      "text/plain": []
     },
     "execution_count": 18,
     "metadata": {},
     "output_type": "execute_result"
    }
   ],
   "source": [
    "ui = gr.Interface(\n",
    "    fn=financial_agent,\n",
    "    inputs=gr.Textbox(lines=2, placeholder=\"Enter your query here...\"),\n",
    "    outputs=gr.Markdown(),\n",
    "    title=\"Financial Agent\",\n",
    "    description=\"Financial Data Explorer: Leveraging Advanced API Tools for Market Insights\"\n",
    ")\n",
    "\n",
    "ui.launch()"
   ]
  },
  {
   "cell_type": "code",
   "execution_count": null,
   "metadata": {},
   "outputs": [],
   "source": []
  }
 ],
 "metadata": {
  "kernelspec": {
   "display_name": "agents",
   "language": "python",
   "name": "python3"
  },
  "language_info": {
   "codemirror_mode": {
    "name": "ipython",
    "version": 3
   },
   "file_extension": ".py",
   "mimetype": "text/x-python",
   "name": "python",
   "nbconvert_exporter": "python",
   "pygments_lexer": "ipython3",
   "version": "3.11.8"
  }
 },
 "nbformat": 4,
 "nbformat_minor": 2
}
