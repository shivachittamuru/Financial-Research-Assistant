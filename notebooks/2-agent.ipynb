{
 "cells": [
  {
   "cell_type": "code",
   "execution_count": 1,
   "metadata": {},
   "outputs": [],
   "source": [
    "import os, openai\n",
    "\n",
    "from dotenv import load_dotenv, find_dotenv\n",
    "_ = load_dotenv(find_dotenv()) # read local .env file\n",
    "\n",
    "os.environ[\"LANGCHAIN_PROJECT\"] = \"financial-agent\""
   ]
  },
  {
   "cell_type": "markdown",
   "metadata": {},
   "source": [
    "## Setup tools"
   ]
  },
  {
   "cell_type": "code",
   "execution_count": 2,
   "metadata": {},
   "outputs": [],
   "source": [
    "from langchain_community.utilities.polygon import PolygonAPIWrapper\n",
    "from langchain_community.tools import PolygonLastQuote, PolygonTickerNews, PolygonFinancials, PolygonAggregates\n",
    "\n",
    "polygon = PolygonAPIWrapper()\n",
    "tools = [\n",
    "    PolygonLastQuote(api_wrapper=polygon),\n",
    "    PolygonTickerNews(api_wrapper=polygon),\n",
    "    PolygonFinancials(api_wrapper=polygon),\n",
    "    PolygonAggregates(api_wrapper=polygon)\n",
    "]"
   ]
  },
  {
   "cell_type": "code",
   "execution_count": 3,
   "metadata": {},
   "outputs": [
    {
     "name": "stdout",
     "output_type": "stream",
     "text": [
      "polygon_last_quote\n",
      "polygon_ticker_news\n",
      "polygon_financials\n",
      "polygon_aggregates\n"
     ]
    }
   ],
   "source": [
    "for tool in tools:\n",
    "    print(tool.name)"
   ]
  },
  {
   "cell_type": "code",
   "execution_count": 4,
   "metadata": {},
   "outputs": [],
   "source": [
    "from langchain_openai.chat_models import AzureChatOpenAI\n",
    "llm  = AzureChatOpenAI(\n",
    "    api_key=os.environ[\"AZURE_OPENAI_API_KEY\"],\n",
    "    azure_endpoint=os.environ[\"AZURE_OPENAI_ENDPOINT\"],\n",
    "    api_version=os.environ[\"AZURE_OPENAI_API_VERSION\"],\n",
    "    azure_deployment=\"gpt-4o\",\n",
    "    streaming=True,\n",
    "    temperature=0\n",
    ")"
   ]
  },
  {
   "cell_type": "code",
   "execution_count": 5,
   "metadata": {},
   "outputs": [
    {
     "data": {
      "text/plain": [
       "AIMessage(content='', additional_kwargs={'tool_calls': [{'index': 0, 'id': 'call_3sQoTPRy99GOjTdfaqwIxFmc', 'function': {'arguments': '{\"query\": \"CRM\"}', 'name': 'polygon_ticker_news'}, 'type': 'function'}, {'index': 1, 'id': 'call_Wtc58fRR4gJbAj1kAkOBaFWV', 'function': {'arguments': '{\"query\": \"CRM\"}', 'name': 'polygon_financials'}, 'type': 'function'}]}, response_metadata={'finish_reason': 'tool_calls'}, id='run-391bb067-d7a3-40be-bf48-d6d9f1c49aab-0', tool_calls=[{'name': 'polygon_ticker_news', 'args': {'query': 'CRM'}, 'id': 'call_3sQoTPRy99GOjTdfaqwIxFmc'}, {'name': 'polygon_financials', 'args': {'query': 'CRM'}, 'id': 'call_Wtc58fRR4gJbAj1kAkOBaFWV'}])"
      ]
     },
     "execution_count": 5,
     "metadata": {},
     "output_type": "execute_result"
    }
   ],
   "source": [
    "llm_with_tools = llm.bind_tools(tools)\n",
    "\n",
    "query = \"Why is CRM stock down so much? Was something wrong with its earnings? Could you be specific what went wrong.\"\n",
    "result = llm_with_tools.invoke(query)\n",
    "\n",
    "result"
   ]
  },
  {
   "cell_type": "code",
   "execution_count": 6,
   "metadata": {},
   "outputs": [
    {
     "data": {
      "text/plain": [
       "[{'name': 'polygon_ticker_news',\n",
       "  'args': {'query': 'CRM'},\n",
       "  'id': 'call_3sQoTPRy99GOjTdfaqwIxFmc'},\n",
       " {'name': 'polygon_financials',\n",
       "  'args': {'query': 'CRM'},\n",
       "  'id': 'call_Wtc58fRR4gJbAj1kAkOBaFWV'}]"
      ]
     },
     "execution_count": 6,
     "metadata": {},
     "output_type": "execute_result"
    }
   ],
   "source": [
    "# A tool can have multiple functions schemas inside it that can be used to process the input data.\n",
    "\n",
    "result.tool_calls"
   ]
  },
  {
   "cell_type": "code",
   "execution_count": null,
   "metadata": {},
   "outputs": [],
   "source": [
    "from langchain_core.messages import HumanMessage, ToolMessage\n",
    "\n",
    "messages = [HumanMessage(query)]\n",
    "llm_output = llm_with_tools.invoke(messages)\n",
    "messages.append(llm_output)\n",
    "\n",
    "tool_mapping = {\n",
    "    \"polygon_last_quote\": tools[0],\n",
    "    \"polygon_ticker_news\": tools[1],\n",
    "    \"polygon_financials\": tools[2],\n",
    "    \"polygon_aggregates\": tools[3]\n",
    "}\n",
    "\n",
    "for tool_call in llm_output.tool_calls:\n",
    "    tool = tool_mapping[tool_call[\"name\"].lower()]\n",
    "    tool_output = tool.invoke(tool_call[\"args\"])\n",
    "    messages.append(ToolMessage(tool_output, tool_call_id=tool_call[\"id\"]))"
   ]
  },
  {
   "cell_type": "code",
   "execution_count": 8,
   "metadata": {},
   "outputs": [
    {
     "name": "stdout",
     "output_type": "stream",
     "text": [
      "human\n",
      "ai\n",
      "tool\n",
      "tool\n"
     ]
    }
   ],
   "source": [
    "for message in messages:\n",
    "    print(message.type)"
   ]
  },
  {
   "cell_type": "markdown",
   "metadata": {},
   "source": [
    "\n",
    "## Agent"
   ]
  },
  {
   "cell_type": "code",
   "execution_count": 9,
   "metadata": {},
   "outputs": [
    {
     "name": "stdout",
     "output_type": "stream",
     "text": [
      "================================\u001b[1m System Message \u001b[0m================================\n",
      "\n",
      "\n",
      "        As a Financial Research Assistant, your role is to provide latest financial insights about companies and help individuals make informed investment decisions. \n",
      "        \n",
      "        You have access to 4 tools from Polygon.io API that lets you query the latest financial data from all US stock exchanges. The tools are:\n",
      "        1. polygon_last_quote: Get the latest quote for ticker\n",
      "        2. polygon_ticker_news: Get the latest news for ticker\n",
      "        3. polygon_financials: Get the financials for ticker\n",
      "        4. polygon_aggregates: Get the aggregates for ticker   \n",
      "\n",
      "        You may need one or more tools to answer a user query. You can use the tools in any order depending on the user query. \n",
      "        \n",
      "        Conversaion History:\n",
      "        \u001b[33;1m\u001b[1;3m{chat_history}\u001b[0m\n",
      "        \n",
      "\n",
      "=============================\u001b[1m Messages Placeholder \u001b[0m=============================\n",
      "\n",
      "\u001b[33;1m\u001b[1;3m{chat_history}\u001b[0m\n",
      "\n",
      "================================\u001b[1m Human Message \u001b[0m=================================\n",
      "\n",
      "User Input: \u001b[33;1m\u001b[1;3m{input}\u001b[0m\n",
      "\n",
      "=============================\u001b[1m Messages Placeholder \u001b[0m=============================\n",
      "\n",
      "\u001b[33;1m\u001b[1;3m{agent_scratchpad}\u001b[0m\n"
     ]
    }
   ],
   "source": [
    "from langchain_core.prompts import ChatPromptTemplate\n",
    "from langchain_core.prompts import MessagesPlaceholder\n",
    "\n",
    "prompt = ChatPromptTemplate.from_messages([\n",
    "    (\n",
    "        \"system\", \n",
    "        \"\"\"\n",
    "        As a Financial Research Assistant, your role is to provide latest financial insights about companies and help individuals make informed investment decisions. \n",
    "        \n",
    "        You have access to 4 tools from Polygon.io API that lets you query the latest financial data from all US stock exchanges. The tools are:\n",
    "        1. polygon_last_quote: Get the latest quote for ticker\n",
    "        2. polygon_ticker_news: Get the latest news for ticker\n",
    "        3. polygon_financials: Get the financials for ticker\n",
    "        4. polygon_aggregates: Get the aggregates for ticker   \n",
    "\n",
    "        You may need one or more tools to answer a user query. You can use the tools in any order depending on the user query. \n",
    "        \n",
    "        Conversaion History:\n",
    "        {chat_history}\n",
    "        \"\"\"                 \n",
    "    ),\n",
    "    MessagesPlaceholder(variable_name=\"chat_history\"),\n",
    "    (\"human\", \"User Input: {input}\"),\n",
    "    MessagesPlaceholder(variable_name=\"agent_scratchpad\")\n",
    "])\n",
    "\n",
    "prompt.pretty_print()"
   ]
  },
  {
   "cell_type": "markdown",
   "metadata": {},
   "source": [
    "LangChain has several abstractions to make working with agents easy.\n",
    "\n",
    "### AgentAction\n",
    "This is a dataclass that represents the action an agent should take. It has a tool property (which is the name of the tool that should be invoked) and a tool_input property (the input to that tool)\n",
    "\n",
    "### AgentFinish\n",
    "This represents the final result from an agent, when it is ready to return to the user. It contains a return_values key-value mapping, which contains the final agent output. Usually, this contains an output key containing a string that is the agent's response.\n",
    "\n",
    "### Intermediate Steps\n",
    "These represent previous agent actions and corresponding outputs from this CURRENT agent run. These are important to pass to future iteration so the agent knows what work it has already done. This is typed as a List[Tuple[AgentAction, Any]]. Note that observation is currently left as type Any to be maximally flexible. In practice, this is often a string.\n",
    "\n",
    "### `AgentExecutor` is a built-in class that provides the `run_agent` functionality\n",
    "\n",
    "```console\n",
    "def run_agent(user_input):\n",
    "    intermediate_steps = []\n",
    "    while True:\n",
    "        result = chain.invoke({\n",
    "            \"input\": user_input, \n",
    "            \"agent_scratchpad\": format_to_openai_functions(intermediate_steps)\n",
    "        })\n",
    "        if isinstance(result, AgentFinish):\n",
    "            return result\n",
    "        tool = {\n",
    "            \"retrieve\": retrieve, \n",
    "            \"calculate_total\": calculate_total\n",
    "        }[result.tool]\n",
    "        observation = tool.run(result.tool_input)\n",
    "        intermediate_steps.append((result, observation))\n",
    "\n",
    "```\n",
    "\n",
    "Also adds additional functionalities such as logging, error handling for tools and also the entire agent."
   ]
  },
  {
   "cell_type": "code",
   "execution_count": 10,
   "metadata": {},
   "outputs": [],
   "source": [
    "import random\n",
    "from langchain_community.chat_message_histories.cosmos_db import CosmosDBChatMessageHistory\n",
    "\n",
    "cosmos = CosmosDBChatMessageHistory(\n",
    "    cosmos_endpoint=os.environ['AZURE_COSMOSDB_ENDPOINT'],\n",
    "    cosmos_database=os.environ['AZURE_COSMOSDB_NAME'],\n",
    "    cosmos_container=os.environ['AZURE_COSMOSDB_CONTAINER_NAME'],\n",
    "    connection_string=os.environ['AZURE_COMOSDB_CONNECTION_STRING'],\n",
    "    session_id=\"shiva-test\" + str(random.randint(1, 10000)),\n",
    "    user_id=\"shivac\"\n",
    "    )\n",
    "cosmos.prepare_cosmos()\n",
    "\n",
    "from langchain.memory import ConversationBufferMemory\n",
    "memory = ConversationBufferMemory(k=10, return_messages=True,memory_key=\"chat_history\",chat_memory=cosmos)"
   ]
  },
  {
   "cell_type": "code",
   "execution_count": 11,
   "metadata": {},
   "outputs": [],
   "source": [
    "from langchain.agents import create_openai_functions_agent, AgentExecutor\n",
    "\n",
    "agent_runnable = create_openai_functions_agent(llm, tools, prompt)\n",
    "agent_executor = AgentExecutor(agent=agent_runnable, tools=tools, verbose=False, memory=memory) \n",
    "# verbose=True to see the agent's internal state i.e. which tools are being used by the agent to answer the user query"
   ]
  },
  {
   "cell_type": "code",
   "execution_count": 12,
   "metadata": {},
   "outputs": [],
   "source": [
    "result = agent_executor.invoke({\"input\": \"How can you help me?\"}) "
   ]
  },
  {
   "cell_type": "code",
   "execution_count": 13,
   "metadata": {},
   "outputs": [],
   "source": [
    "result = agent_executor.invoke({\"input\": \"Why is CRM stock down so much? Was something wrong with its earnings? Could you be specific what went wrong.\"})"
   ]
  },
  {
   "cell_type": "code",
   "execution_count": 14,
   "metadata": {},
   "outputs": [
    {
     "name": "stdout",
     "output_type": "stream",
     "text": [
      "Based on the latest financial data and news articles, here are some insights into why Salesforce (CRM) stock might be down and what went wrong with its earnings:\n",
      "\n",
      "### Financial Performance\n",
      "1. **Revenue Growth**: Salesforce reported revenues of $34.86 billion for the fiscal year ending January 31, 2024, and $9.29 billion for Q4 2024. While these figures show growth, the rate of growth might not have met investor expectations.\n",
      "2. **Net Income**: The net income for the fiscal year was $4.14 billion, with a net income of $1.45 billion for Q4 2024. Although profitable, the earnings per share (EPS) of $4.20 (diluted) for the fiscal year and $1.47 for Q4 might have been below market expectations.\n",
      "3. **Operating Expenses**: High operating expenses, including significant costs in research and development ($4.91 billion for the fiscal year), could have impacted profitability.\n",
      "4. **Cash Flow**: The net cash flow from operating activities was strong at $10.23 billion for the fiscal year, but the net cash flow from financing activities was negative at -$7.48 billion, indicating substantial outflows, possibly due to debt repayments or share buybacks.\n",
      "\n",
      "### News Insights\n",
      "1. **Investor Sentiment**: Articles from Zacks Investment Research and The Motley Fool indicate that Salesforce was one of the worst-performing stocks in the Dow Jones in May 2024. This suggests a broader negative sentiment among investors.\n",
      "2. **Disappointment in Earnings**: An article titled \"Is Salesforce Stock a Buy Now?\" from The Motley Fool mentions that the cloud software giant disappointed a lot of investors, which could be due to earnings not meeting expectations.\n",
      "3. **International Revenue Trends**: Another article from Zacks Investment Research highlights the importance of assessing Salesforce's international revenue trends, which might have shown slower growth or other issues affecting overall performance.\n",
      "\n",
      "### Specific Issues\n",
      "- **Earnings Miss**: The financial data and news suggest that Salesforce's earnings might have missed market expectations, leading to a decline in stock price.\n",
      "- **High Operating Costs**: The high operating expenses, particularly in research and development, could have raised concerns about profitability.\n",
      "- **Negative Cash Flow from Financing Activities**: The significant outflows in financing activities might have worried investors about the company's financial management.\n",
      "\n",
      "### Conclusion\n",
      "The decline in Salesforce (CRM) stock appears to be driven by a combination of factors, including earnings that did not meet market expectations, high operating expenses, and negative cash flow from financing activities. The broader negative sentiment among investors, as highlighted in recent news articles, also contributed to the stock's poor performance.\n",
      "\n",
      "If you have any specific questions or need further details, feel free to ask!\n"
     ]
    }
   ],
   "source": [
    "print(result[\"output\"])"
   ]
  },
  {
   "cell_type": "code",
   "execution_count": null,
   "metadata": {},
   "outputs": [],
   "source": [
    "# # Chatbot\n",
    "\n",
    "# import time\n",
    "\n",
    "# print(\"I am a Financial Research Assistant! How can I assist you?\\n\")\n",
    "# while True:\n",
    "#     query = input()\n",
    "#     if query in [\"quit\", \"exit\"]:\n",
    "#         break\n",
    "#     start_time = time.time()\n",
    "#     result = agent_executor.invoke({\"input\": query})\n",
    "#     end_time = time.time()\n",
    "#     execution_time = end_time - start_time\n",
    "#     print(\"\\nUser: {0}\".format(query))\n",
    "#     print(\"\\nAssistant: {0}\".format(result['output']))\n",
    "#     print(f\"\\tTime taken to respond: {round(execution_time)} seconds\")"
   ]
  },
  {
   "cell_type": "markdown",
   "metadata": {},
   "source": [
    "## Gradio Interface"
   ]
  },
  {
   "cell_type": "code",
   "execution_count": 25,
   "metadata": {},
   "outputs": [
    {
     "name": "stderr",
     "output_type": "stream",
     "text": [
      "c:\\Users\\shchitt\\AppData\\Local\\anaconda3\\envs\\langgraph\\Lib\\site-packages\\tqdm\\auto.py:21: TqdmWarning: IProgress not found. Please update jupyter and ipywidgets. See https://ipywidgets.readthedocs.io/en/stable/user_install.html\n",
      "  from .autonotebook import tqdm as notebook_tqdm\n"
     ]
    },
    {
     "name": "stdout",
     "output_type": "stream",
     "text": [
      "Running on local URL:  http://127.0.0.1:7860\n",
      "\n",
      "To create a public link, set `share=True` in `launch()`.\n"
     ]
    },
    {
     "data": {
      "text/html": [
       "<div><iframe src=\"http://127.0.0.1:7860/\" width=\"100%\" height=\"500\" allow=\"autoplay; camera; microphone; clipboard-read; clipboard-write;\" frameborder=\"0\" allowfullscreen></iframe></div>"
      ],
      "text/plain": [
       "<IPython.core.display.HTML object>"
      ]
     },
     "metadata": {},
     "output_type": "display_data"
    },
    {
     "data": {
      "text/plain": []
     },
     "execution_count": 25,
     "metadata": {},
     "output_type": "execute_result"
    }
   ],
   "source": [
    "import gradio as gr\n",
    "\n",
    "def run_agent(query):\n",
    "    result = agent_executor.invoke({\"input\": query})\n",
    "    return result['output']\n",
    "\n",
    "ui = gr.Interface(\n",
    "    fn=run_agent,\n",
    "    inputs=gr.Textbox(lines=2, placeholder=\"Enter your query here...\"),\n",
    "    outputs=gr.Markdown(),\n",
    "    title=\"Financial Agent\",\n",
    "    description=\"Financial Data Explorer: Leveraging Advanced API Tools for Market Insights\"\n",
    ")\n",
    "\n",
    "ui.launch()"
   ]
  },
  {
   "cell_type": "code",
   "execution_count": null,
   "metadata": {},
   "outputs": [],
   "source": []
  }
 ],
 "metadata": {
  "kernelspec": {
   "display_name": "langgraph",
   "language": "python",
   "name": "python3"
  },
  "language_info": {
   "codemirror_mode": {
    "name": "ipython",
    "version": 3
   },
   "file_extension": ".py",
   "mimetype": "text/x-python",
   "name": "python",
   "nbconvert_exporter": "python",
   "pygments_lexer": "ipython3",
   "version": "3.11.8"
  }
 },
 "nbformat": 4,
 "nbformat_minor": 2
}
